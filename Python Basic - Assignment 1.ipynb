{
 "cells": [
  {
   "cell_type": "markdown",
   "id": "d6014687",
   "metadata": {},
   "source": [
    "1. In the below elements which of them are values or an expression? eg:- values can be integer or string and expressions will be mathematical operators."
   ]
  },
  {
   "cell_type": "markdown",
   "id": "181fa400",
   "metadata": {},
   "source": [
    " *, -, /, + : Expressions\n",
    "\n",
    "'hello', -87.8, 6 : values"
   ]
  },
  {
   "cell_type": "markdown",
   "id": "f8b2f169",
   "metadata": {},
   "source": [
    "2. What is the difference between string and variable?"
   ]
  },
  {
   "cell_type": "markdown",
   "id": "846a7139",
   "metadata": {},
   "source": [
    "String: It is a character that is in either single inverted commas or double intverted commas. For instance; \"prabh\", \"776\".\n",
    "\n",
    "Variable: It is what contains the information or the data/ value. it can be either string for integer. For example; a = \"prabh\", here \"a\" is a variable that contains the value \"prabh\"."
   ]
  },
  {
   "cell_type": "markdown",
   "id": "d7ae5e01",
   "metadata": {},
   "source": [
    "3. Describe three different data types."
   ]
  },
  {
   "cell_type": "markdown",
   "id": "b822c4b2",
   "metadata": {},
   "source": [
    "(a). int(): Integer, contains numeric values\n",
    "\n",
    "(b). str(): String, contains a character value\n",
    "\n",
    "(c). True or False : Boolean, True = 1, False = 0"
   ]
  },
  {
   "cell_type": "markdown",
   "id": "fcdc7615",
   "metadata": {},
   "source": [
    "4. What is an expression made up of? What do all expressions do?"
   ]
  },
  {
   "cell_type": "markdown",
   "id": "aff7ca23",
   "metadata": {},
   "source": [
    "Expressions are the symbols that helps in the mathematical calculations. Example; *,+,-,/\n"
   ]
  },
  {
   "cell_type": "markdown",
   "id": "4bfc83dd",
   "metadata": {},
   "source": [
    "5. This assignment statements, like spam = 10. What is the difference between an\n",
    "expression and a statement?"
   ]
  },
  {
   "cell_type": "code",
   "execution_count": null,
   "id": "bf8bf305",
   "metadata": {},
   "outputs": [],
   "source": []
  },
  {
   "cell_type": "markdown",
   "id": "738ef6ac",
   "metadata": {},
   "source": [
    "6. After running the following code, what does the variable bacon contain?"
   ]
  },
  {
   "cell_type": "code",
   "execution_count": 2,
   "id": "608d3f13",
   "metadata": {},
   "outputs": [],
   "source": [
    "bacon = 22"
   ]
  },
  {
   "cell_type": "code",
   "execution_count": 3,
   "id": "3b0149ce",
   "metadata": {},
   "outputs": [
    {
     "data": {
      "text/plain": [
       "23"
      ]
     },
     "execution_count": 3,
     "metadata": {},
     "output_type": "execute_result"
    }
   ],
   "source": [
    "bacon + 1"
   ]
  },
  {
   "cell_type": "markdown",
   "id": "e498c831",
   "metadata": {},
   "source": [
    "bacon = 22 as we alraedy assigned value 22 to variable bacon. Adding a number will not change the value of the it."
   ]
  },
  {
   "cell_type": "markdown",
   "id": "b583cb6b",
   "metadata": {},
   "source": [
    "7. What should the values of the following two terms be?"
   ]
  },
  {
   "cell_type": "code",
   "execution_count": 6,
   "id": "37ef5fa9",
   "metadata": {},
   "outputs": [
    {
     "data": {
      "text/plain": [
       "'spamspamsspam'"
      ]
     },
     "execution_count": 6,
     "metadata": {},
     "output_type": "execute_result"
    }
   ],
   "source": [
    "'spam' + \"spamsspam\""
   ]
  },
  {
   "cell_type": "markdown",
   "id": "1d3b8e45",
   "metadata": {},
   "source": [
    "Here, in the above code 'spam' a string value is added to the another string value 'spams spam'"
   ]
  },
  {
   "cell_type": "code",
   "execution_count": 7,
   "id": "9edcb5ad",
   "metadata": {},
   "outputs": [
    {
     "data": {
      "text/plain": [
       "'spamspamspam'"
      ]
     },
     "execution_count": 7,
     "metadata": {},
     "output_type": "execute_result"
    }
   ],
   "source": [
    "'spam' * 3"
   ]
  },
  {
   "cell_type": "markdown",
   "id": "bbd3b4c7",
   "metadata": {},
   "source": [
    "The other code just tells to repeat spam 3 times."
   ]
  },
  {
   "cell_type": "markdown",
   "id": "504aa330",
   "metadata": {},
   "source": [
    "8. Why is eggs a valid variable name while 100 is invalid?"
   ]
  },
  {
   "cell_type": "markdown",
   "id": "fe4902d9",
   "metadata": {},
   "source": [
    "A variable name should always be a character not a number. It can contain number values however it can not be all numeric. For example; prabh_99 is valid. The same way eggs is a valid variable and 100 is not a valid variable."
   ]
  },
  {
   "cell_type": "markdown",
   "id": "36b4b3ad",
   "metadata": {},
   "source": [
    "9. What three functions can be used to get the integer, floating-point number, or string\n",
    "version of a value?"
   ]
  },
  {
   "cell_type": "markdown",
   "id": "92c10fd4",
   "metadata": {},
   "source": [
    "Integer: int()\n",
    "Floating-point: float()\n",
    "string: str()"
   ]
  },
  {
   "cell_type": "markdown",
   "id": "62080be2",
   "metadata": {},
   "source": [
    "10. Why does this expression cause an error? How can you fix it?"
   ]
  },
  {
   "cell_type": "code",
   "execution_count": 12,
   "id": "bc1edcf2",
   "metadata": {},
   "outputs": [
    {
     "ename": "TypeError",
     "evalue": "can only concatenate str (not \"int\") to str",
     "output_type": "error",
     "traceback": [
      "\u001b[1;31m---------------------------------------------------------------------------\u001b[0m",
      "\u001b[1;31mTypeError\u001b[0m                                 Traceback (most recent call last)",
      "\u001b[1;32m~\\AppData\\Local\\Temp\\ipykernel_22244\\2733022945.py\u001b[0m in \u001b[0;36m<module>\u001b[1;34m\u001b[0m\n\u001b[1;32m----> 1\u001b[1;33m \u001b[1;34m'I have eaten'\u001b[0m \u001b[1;33m+\u001b[0m \u001b[1;36m99\u001b[0m \u001b[1;33m+\u001b[0m \u001b[1;34m'burritos'\u001b[0m\u001b[1;33m\u001b[0m\u001b[1;33m\u001b[0m\u001b[0m\n\u001b[0m",
      "\u001b[1;31mTypeError\u001b[0m: can only concatenate str (not \"int\") to str"
     ]
    }
   ],
   "source": [
    "'I have eaten' + 99 + 'burritos'"
   ]
  },
  {
   "cell_type": "markdown",
   "id": "828e9f2d",
   "metadata": {},
   "source": [
    "Here, the first and the last value is a string and the middle value in an integer. To fix this problem we can convert 99 into a string value by using the command str()"
   ]
  },
  {
   "cell_type": "code",
   "execution_count": 13,
   "id": "84a8e2a1",
   "metadata": {},
   "outputs": [
    {
     "data": {
      "text/plain": [
       "'I have eaten99burritos'"
      ]
     },
     "execution_count": 13,
     "metadata": {},
     "output_type": "execute_result"
    }
   ],
   "source": [
    "'I have eaten' + str(99) + 'burritos'"
   ]
  },
  {
   "cell_type": "markdown",
   "id": "f26f6b3c",
   "metadata": {},
   "source": [
    "There you go!:)"
   ]
  }
 ],
 "metadata": {
  "kernelspec": {
   "display_name": "Python 3 (ipykernel)",
   "language": "python",
   "name": "python3"
  },
  "language_info": {
   "codemirror_mode": {
    "name": "ipython",
    "version": 3
   },
   "file_extension": ".py",
   "mimetype": "text/x-python",
   "name": "python",
   "nbconvert_exporter": "python",
   "pygments_lexer": "ipython3",
   "version": "3.9.13"
  }
 },
 "nbformat": 4,
 "nbformat_minor": 5
}
