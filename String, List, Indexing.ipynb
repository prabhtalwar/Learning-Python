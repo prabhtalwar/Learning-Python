{
 "cells": [
  {
   "cell_type": "code",
   "execution_count": 1,
   "id": "f6a5701d",
   "metadata": {},
   "outputs": [],
   "source": [
    "a = \"prabh\""
   ]
  },
  {
   "cell_type": "code",
   "execution_count": 2,
   "id": "a8575afa",
   "metadata": {},
   "outputs": [
    {
     "data": {
      "text/plain": [
       "str"
      ]
     },
     "execution_count": 2,
     "metadata": {},
     "output_type": "execute_result"
    }
   ],
   "source": [
    "type(a)"
   ]
  },
  {
   "cell_type": "code",
   "execution_count": 3,
   "id": "b80947b6",
   "metadata": {},
   "outputs": [
    {
     "data": {
      "text/plain": [
       "'r'"
      ]
     },
     "execution_count": 3,
     "metadata": {},
     "output_type": "execute_result"
    }
   ],
   "source": [
    " a[1] #indexing or fetching "
   ]
  },
  {
   "cell_type": "code",
   "execution_count": 4,
   "id": "f91b9970",
   "metadata": {},
   "outputs": [
    {
     "data": {
      "text/plain": [
       "'p'"
      ]
     },
     "execution_count": 4,
     "metadata": {},
     "output_type": "execute_result"
    }
   ],
   "source": [
    "a[0] # moving forward starts from 0"
   ]
  },
  {
   "cell_type": "code",
   "execution_count": 5,
   "id": "0431508d",
   "metadata": {},
   "outputs": [
    {
     "data": {
      "text/plain": [
       "'b'"
      ]
     },
     "execution_count": 5,
     "metadata": {},
     "output_type": "execute_result"
    }
   ],
   "source": [
    "a[-2] "
   ]
  },
  {
   "cell_type": "code",
   "execution_count": 6,
   "id": "0d7895f0",
   "metadata": {},
   "outputs": [
    {
     "data": {
      "text/plain": [
       "'h'"
      ]
     },
     "execution_count": 6,
     "metadata": {},
     "output_type": "execute_result"
    }
   ],
   "source": [
    "a[-1] # moving backward starts from -1"
   ]
  },
  {
   "cell_type": "code",
   "execution_count": 7,
   "id": "6f1a3e2d",
   "metadata": {},
   "outputs": [
    {
     "data": {
      "text/plain": [
       "'pra'"
      ]
     },
     "execution_count": 7,
     "metadata": {},
     "output_type": "execute_result"
    }
   ],
   "source": [
    "a[0:3]"
   ]
  },
  {
   "cell_type": "code",
   "execution_count": 2,
   "id": "8451a4ec",
   "metadata": {},
   "outputs": [],
   "source": [
    "b = \"my name is prabh\""
   ]
  },
  {
   "cell_type": "code",
   "execution_count": 9,
   "id": "34bdfc20",
   "metadata": {},
   "outputs": [
    {
     "data": {
      "text/plain": [
       "'n'"
      ]
     },
     "execution_count": 9,
     "metadata": {},
     "output_type": "execute_result"
    }
   ],
   "source": [
    "b[3]"
   ]
  },
  {
   "cell_type": "code",
   "execution_count": 15,
   "id": "4d03ab94",
   "metadata": {},
   "outputs": [
    {
     "data": {
      "text/plain": [
       "'my n'"
      ]
     },
     "execution_count": 15,
     "metadata": {},
     "output_type": "execute_result"
    }
   ],
   "source": [
    "b[0:4]  #4th variable is not included i.e.\"a\""
   ]
  },
  {
   "cell_type": "code",
   "execution_count": 12,
   "id": "3f7fa964",
   "metadata": {},
   "outputs": [
    {
     "data": {
      "text/plain": [
       "' '"
      ]
     },
     "execution_count": 12,
     "metadata": {},
     "output_type": "execute_result"
    }
   ],
   "source": [
    "b[2] # space is also considered/counted"
   ]
  },
  {
   "cell_type": "code",
   "execution_count": 16,
   "id": "edb8d8ec",
   "metadata": {},
   "outputs": [
    {
     "data": {
      "text/plain": [
       "'my name is prabh'"
      ]
     },
     "execution_count": 16,
     "metadata": {},
     "output_type": "execute_result"
    }
   ],
   "source": [
    "b[0:200] # in range no error ocurs"
   ]
  },
  {
   "cell_type": "code",
   "execution_count": 17,
   "id": "fd2cf872",
   "metadata": {},
   "outputs": [
    {
     "ename": "IndexError",
     "evalue": "string index out of range",
     "output_type": "error",
     "traceback": [
      "\u001b[1;31m---------------------------------------------------------------------------\u001b[0m",
      "\u001b[1;31mIndexError\u001b[0m                                Traceback (most recent call last)",
      "\u001b[1;32m~\\AppData\\Local\\Temp\\ipykernel_24256\\3126426409.py\u001b[0m in \u001b[0;36m<module>\u001b[1;34m\u001b[0m\n\u001b[1;32m----> 1\u001b[1;33m \u001b[0mb\u001b[0m\u001b[1;33m[\u001b[0m\u001b[1;36m200\u001b[0m\u001b[1;33m]\u001b[0m\u001b[1;33m\u001b[0m\u001b[1;33m\u001b[0m\u001b[0m\n\u001b[0m",
      "\u001b[1;31mIndexError\u001b[0m: string index out of range"
     ]
    }
   ],
   "source": [
    "b[200] "
   ]
  },
  {
   "cell_type": "code",
   "execution_count": 3,
   "id": "af31426d",
   "metadata": {},
   "outputs": [
    {
     "data": {
      "text/plain": [
       "'my name is prabh'"
      ]
     },
     "execution_count": 3,
     "metadata": {},
     "output_type": "execute_result"
    }
   ],
   "source": [
    "b"
   ]
  },
  {
   "cell_type": "code",
   "execution_count": 6,
   "id": "83b1f7ce",
   "metadata": {},
   "outputs": [
    {
     "data": {
      "text/plain": [
       "'my name is prabh'"
      ]
     },
     "execution_count": 6,
     "metadata": {},
     "output_type": "execute_result"
    }
   ],
   "source": [
    "b[0:20]"
   ]
  },
  {
   "cell_type": "code",
   "execution_count": 10,
   "id": "cebd2b56",
   "metadata": {},
   "outputs": [
    {
     "data": {
      "text/plain": [
       "'my name is prabh'"
      ]
     },
     "execution_count": 10,
     "metadata": {},
     "output_type": "execute_result"
    }
   ],
   "source": [
    "b[0:20:1] # specifying the step size/jump"
   ]
  },
  {
   "cell_type": "code",
   "execution_count": 11,
   "id": "3d4ff432",
   "metadata": {},
   "outputs": [
    {
     "data": {
      "text/plain": [
       "'m aei rb'"
      ]
     },
     "execution_count": 11,
     "metadata": {},
     "output_type": "execute_result"
    }
   ],
   "source": [
    "b[0:20:2] #by default the jump is positive"
   ]
  },
  {
   "cell_type": "code",
   "execution_count": 12,
   "id": "30c1131e",
   "metadata": {},
   "outputs": [
    {
     "data": {
      "text/plain": [
       "''"
      ]
     },
     "execution_count": 12,
     "metadata": {},
     "output_type": "execute_result"
    }
   ],
   "source": [
    "b[0:20:-1] #blank string "
   ]
  },
  {
   "cell_type": "code",
   "execution_count": 13,
   "id": "67b84572",
   "metadata": {},
   "outputs": [
    {
     "data": {
      "text/plain": [
       "''"
      ]
     },
     "execution_count": 13,
     "metadata": {},
     "output_type": "execute_result"
    }
   ],
   "source": [
    "b[0:20:-2] Moving from 0 to +ive direction, but the jump is -ive"
   ]
  },
  {
   "cell_type": "code",
   "execution_count": 16,
   "id": "4aa0c06a",
   "metadata": {},
   "outputs": [
    {
     "data": {
      "text/plain": [
       "'hbarp s'"
      ]
     },
     "execution_count": 16,
     "metadata": {},
     "output_type": "execute_result"
    }
   ],
   "source": [
    "b[-1:-8:-1]"
   ]
  },
  {
   "cell_type": "code",
   "execution_count": 17,
   "id": "c89e12e3",
   "metadata": {},
   "outputs": [
    {
     "data": {
      "text/plain": [
       "'my name is prabh'"
      ]
     },
     "execution_count": 17,
     "metadata": {},
     "output_type": "execute_result"
    }
   ],
   "source": [
    "b[::]"
   ]
  },
  {
   "cell_type": "code",
   "execution_count": 18,
   "id": "b89d9814",
   "metadata": {},
   "outputs": [
    {
     "data": {
      "text/plain": [
       "'y name is prabh'"
      ]
     },
     "execution_count": 18,
     "metadata": {},
     "output_type": "execute_result"
    }
   ],
   "source": [
    "b[1:]"
   ]
  },
  {
   "cell_type": "code",
   "execution_count": 20,
   "id": "0fe963c2",
   "metadata": {},
   "outputs": [
    {
     "data": {
      "text/plain": [
       "'bh'"
      ]
     },
     "execution_count": 20,
     "metadata": {},
     "output_type": "execute_result"
    }
   ],
   "source": [
    "b[-2:] # moves in the positive direction"
   ]
  },
  {
   "cell_type": "code",
   "execution_count": 22,
   "id": "7bb87c84",
   "metadata": {},
   "outputs": [
    {
     "data": {
      "text/plain": [
       "'prabhprabhprabh'"
      ]
     },
     "execution_count": 22,
     "metadata": {},
     "output_type": "execute_result"
    }
   ],
   "source": [
    "\"prabh\" * 3 # repating "
   ]
  },
  {
   "cell_type": "code",
   "execution_count": 38,
   "id": "a4dcbb17",
   "metadata": {},
   "outputs": [
    {
     "data": {
      "text/plain": [
       "'my name is prabh'"
      ]
     },
     "execution_count": 38,
     "metadata": {},
     "output_type": "execute_result"
    }
   ],
   "source": [
    "b"
   ]
  },
  {
   "cell_type": "code",
   "execution_count": 24,
   "id": "3e3b1411",
   "metadata": {},
   "outputs": [
    {
     "data": {
      "text/plain": [
       "16"
      ]
     },
     "execution_count": 24,
     "metadata": {},
     "output_type": "execute_result"
    }
   ],
   "source": [
    "len(b) # total length of the string including the space"
   ]
  },
  {
   "cell_type": "code",
   "execution_count": 29,
   "id": "6ca6e50f",
   "metadata": {},
   "outputs": [
    {
     "data": {
      "text/plain": [
       "4"
      ]
     },
     "execution_count": 29,
     "metadata": {},
     "output_type": "execute_result"
    }
   ],
   "source": [
    "b.find(\"a\") # just works for the first occurance"
   ]
  },
  {
   "cell_type": "code",
   "execution_count": 31,
   "id": "2b9c5f6d",
   "metadata": {},
   "outputs": [
    {
     "data": {
      "text/plain": [
       "1"
      ]
     },
     "execution_count": 31,
     "metadata": {},
     "output_type": "execute_result"
    }
   ],
   "source": [
    "b.count(\"b\") #frequency/count"
   ]
  },
  {
   "cell_type": "code",
   "execution_count": 32,
   "id": "f16f41ce",
   "metadata": {},
   "outputs": [
    {
     "data": {
      "text/plain": [
       "['my', 'name', 'is', 'prabh']"
      ]
     },
     "execution_count": 32,
     "metadata": {},
     "output_type": "execute_result"
    }
   ],
   "source": [
    "b.split() #list"
   ]
  },
  {
   "cell_type": "code",
   "execution_count": 33,
   "id": "16204535",
   "metadata": {},
   "outputs": [
    {
     "data": {
      "text/plain": [
       "list"
      ]
     },
     "execution_count": 33,
     "metadata": {},
     "output_type": "execute_result"
    }
   ],
   "source": [
    "type(b.split())"
   ]
  },
  {
   "cell_type": "code",
   "execution_count": 34,
   "id": "61684c45",
   "metadata": {},
   "outputs": [],
   "source": [
    "list = b.split()"
   ]
  },
  {
   "cell_type": "code",
   "execution_count": 37,
   "id": "884aafd3",
   "metadata": {},
   "outputs": [
    {
     "data": {
      "text/plain": [
       "'name'"
      ]
     },
     "execution_count": 37,
     "metadata": {},
     "output_type": "execute_result"
    }
   ],
   "source": [
    "list[1]"
   ]
  },
  {
   "cell_type": "code",
   "execution_count": 39,
   "id": "4c984cb7",
   "metadata": {},
   "outputs": [
    {
     "data": {
      "text/plain": [
       "['my n', 'me is pr', 'bh']"
      ]
     },
     "execution_count": 39,
     "metadata": {},
     "output_type": "execute_result"
    }
   ],
   "source": [
    "b.split(\"a\") #splitting w ith a particular delimiter"
   ]
  },
  {
   "cell_type": "code",
   "execution_count": 40,
   "id": "433861c8",
   "metadata": {},
   "outputs": [
    {
     "data": {
      "text/plain": [
       "'MY NAME IS PRABH'"
      ]
     },
     "execution_count": 40,
     "metadata": {},
     "output_type": "execute_result"
    }
   ],
   "source": [
    "b.upper() # uppercase"
   ]
  },
  {
   "cell_type": "code",
   "execution_count": 41,
   "id": "45f58e8c",
   "metadata": {},
   "outputs": [],
   "source": [
    "c =\"Prabh\" "
   ]
  },
  {
   "cell_type": "code",
   "execution_count": 42,
   "id": "76774be2",
   "metadata": {},
   "outputs": [
    {
     "data": {
      "text/plain": [
       "'pRABH'"
      ]
     },
     "execution_count": 42,
     "metadata": {},
     "output_type": "execute_result"
    }
   ],
   "source": [
    "c.swapcase() # converts lowercase into uppercase and vice-a-versa"
   ]
  },
  {
   "cell_type": "code",
   "execution_count": 43,
   "id": "096cd8fd",
   "metadata": {},
   "outputs": [
    {
     "data": {
      "text/plain": [
       "'Prabh'"
      ]
     },
     "execution_count": 43,
     "metadata": {},
     "output_type": "execute_result"
    }
   ],
   "source": [
    "c.title() # the first character into a uppercase "
   ]
  },
  {
   "cell_type": "code",
   "execution_count": 44,
   "id": "368d6b05",
   "metadata": {},
   "outputs": [],
   "source": [
    "a = \"PRABH\"\n",
    "b = \"prabh\""
   ]
  },
  {
   "cell_type": "code",
   "execution_count": 45,
   "id": "fa545166",
   "metadata": {},
   "outputs": [
    {
     "data": {
      "text/plain": [
       "'pPRABHrPRABHaPRABHbPRABHh'"
      ]
     },
     "execution_count": 45,
     "metadata": {},
     "output_type": "execute_result"
    }
   ],
   "source": [
    "a.join(b)"
   ]
  },
  {
   "cell_type": "code",
   "execution_count": 46,
   "id": "f28e2669",
   "metadata": {},
   "outputs": [
    {
     "data": {
      "text/plain": [
       "'P R A B H'"
      ]
     },
     "execution_count": 46,
     "metadata": {},
     "output_type": "execute_result"
    }
   ],
   "source": [
    "\" \".join(a)"
   ]
  },
  {
   "cell_type": "code",
   "execution_count": 49,
   "id": "9e1dcc01",
   "metadata": {},
   "outputs": [],
   "source": [
    " p = \" prabh \""
   ]
  },
  {
   "cell_type": "code",
   "execution_count": 50,
   "id": "df8ec188",
   "metadata": {},
   "outputs": [
    {
     "data": {
      "text/plain": [
       "' prabh'"
      ]
     },
     "execution_count": 50,
     "metadata": {},
     "output_type": "execute_result"
    }
   ],
   "source": [
    "p.rstrip() # removes right hand side white/blank space"
   ]
  },
  {
   "cell_type": "code",
   "execution_count": 51,
   "id": "9debfaee",
   "metadata": {},
   "outputs": [
    {
     "data": {
      "text/plain": [
       "'prabh '"
      ]
     },
     "execution_count": 51,
     "metadata": {},
     "output_type": "execute_result"
    }
   ],
   "source": [
    "p.lstrip() # removes left hand side white/blank space"
   ]
  },
  {
   "cell_type": "code",
   "execution_count": 52,
   "id": "56aa2a65",
   "metadata": {},
   "outputs": [
    {
     "data": {
      "text/plain": [
       "'prabh'"
      ]
     },
     "execution_count": 52,
     "metadata": {},
     "output_type": "execute_result"
    }
   ],
   "source": [
    "p.strip() # removes white/blank space from both sides"
   ]
  },
  {
   "cell_type": "code",
   "execution_count": 64,
   "id": "ceb41277",
   "metadata": {},
   "outputs": [],
   "source": [
    "p = \"prabh\""
   ]
  },
  {
   "cell_type": "code",
   "execution_count": 55,
   "id": "acf33ddb",
   "metadata": {},
   "outputs": [
    {
     "data": {
      "text/plain": [
       "'pxxxabh'"
      ]
     },
     "execution_count": 55,
     "metadata": {},
     "output_type": "execute_result"
    }
   ],
   "source": [
    "p.replace(\"r\", \"xxx\")"
   ]
  },
  {
   "cell_type": "code",
   "execution_count": 56,
   "id": "2904cdf2",
   "metadata": {},
   "outputs": [
    {
     "data": {
      "text/plain": [
       "'parbh   talwar'"
      ]
     },
     "execution_count": 56,
     "metadata": {},
     "output_type": "execute_result"
    }
   ],
   "source": [
    "\"prabh\\ttalwar\".expandtabs() # tab = 3 spaces"
   ]
  },
  {
   "cell_type": "code",
   "execution_count": 63,
   "id": "9bb65563",
   "metadata": {},
   "outputs": [
    {
     "data": {
      "text/plain": [
       "'tttttttttttttttttprabhtttttttttttttttttt'"
      ]
     },
     "execution_count": 63,
     "metadata": {},
     "output_type": "execute_result"
    }
   ],
   "source": [
    "p.center(40, \"t\") # with 40 spaces placing prabh in the middle"
   ]
  },
  {
   "cell_type": "code",
   "execution_count": 65,
   "id": "3741dd83",
   "metadata": {},
   "outputs": [
    {
     "data": {
      "text/plain": [
       "False"
      ]
     },
     "execution_count": 65,
     "metadata": {},
     "output_type": "execute_result"
    }
   ],
   "source": [
    "p.isupper()"
   ]
  },
  {
   "cell_type": "code",
   "execution_count": 66,
   "id": "cd40a9d5",
   "metadata": {},
   "outputs": [
    {
     "data": {
      "text/plain": [
       "True"
      ]
     },
     "execution_count": 66,
     "metadata": {},
     "output_type": "execute_result"
    }
   ],
   "source": [
    "p.islower()"
   ]
  },
  {
   "cell_type": "code",
   "execution_count": 68,
   "id": "4e170f93",
   "metadata": {},
   "outputs": [
    {
     "data": {
      "text/plain": [
       "False"
      ]
     },
     "execution_count": 68,
     "metadata": {},
     "output_type": "execute_result"
    }
   ],
   "source": [
    "p.isspace()"
   ]
  },
  {
   "cell_type": "code",
   "execution_count": 70,
   "id": "db54c550",
   "metadata": {},
   "outputs": [
    {
     "data": {
      "text/plain": [
       "False"
      ]
     },
     "execution_count": 70,
     "metadata": {},
     "output_type": "execute_result"
    }
   ],
   "source": [
    "p.isdigit()"
   ]
  },
  {
   "cell_type": "code",
   "execution_count": 72,
   "id": "ec1c2b44",
   "metadata": {},
   "outputs": [
    {
     "data": {
      "text/plain": [
       "True"
      ]
     },
     "execution_count": 72,
     "metadata": {},
     "output_type": "execute_result"
    }
   ],
   "source": [
    "p.endswith(\"h\")"
   ]
  },
  {
   "cell_type": "code",
   "execution_count": 73,
   "id": "cdb93aec",
   "metadata": {},
   "outputs": [
    {
     "data": {
      "text/plain": [
       "False"
      ]
     },
     "execution_count": 73,
     "metadata": {},
     "output_type": "execute_result"
    }
   ],
   "source": [
    "p.startswith(\"i\")"
   ]
  },
  {
   "cell_type": "code",
   "execution_count": 74,
   "id": "3196fabb",
   "metadata": {},
   "outputs": [
    {
     "data": {
      "text/plain": [
       "False"
      ]
     },
     "execution_count": 74,
     "metadata": {},
     "output_type": "execute_result"
    }
   ],
   "source": [
    "p.istitle()"
   ]
  },
  {
   "cell_type": "code",
   "execution_count": 76,
   "id": "992cf5fa",
   "metadata": {},
   "outputs": [
    {
     "data": {
      "text/plain": [
       "b'prabh'"
      ]
     },
     "execution_count": 76,
     "metadata": {},
     "output_type": "execute_result"
    }
   ],
   "source": [
    "p.encode()"
   ]
  },
  {
   "cell_type": "code",
   "execution_count": 1,
   "id": "3ece10f9",
   "metadata": {},
   "outputs": [],
   "source": [
    "# List is a collection of different types of data types"
   ]
  },
  {
   "cell_type": "code",
   "execution_count": 54,
   "id": "3de454c1",
   "metadata": {},
   "outputs": [],
   "source": [
    "l = [\"prabh\", True, 878, 2+8j]"
   ]
  },
  {
   "cell_type": "code",
   "execution_count": 3,
   "id": "bda32102",
   "metadata": {},
   "outputs": [
    {
     "data": {
      "text/plain": [
       "list"
      ]
     },
     "execution_count": 3,
     "metadata": {},
     "output_type": "execute_result"
    }
   ],
   "source": [
    "type(l)"
   ]
  },
  {
   "cell_type": "code",
   "execution_count": 4,
   "id": "76ba2d37",
   "metadata": {},
   "outputs": [
    {
     "data": {
      "text/plain": [
       "(2+8j)"
      ]
     },
     "execution_count": 4,
     "metadata": {},
     "output_type": "execute_result"
    }
   ],
   "source": [
    "  l[-1]"
   ]
  },
  {
   "cell_type": "code",
   "execution_count": 5,
   "id": "97ae196a",
   "metadata": {},
   "outputs": [
    {
     "data": {
      "text/plain": [
       "878"
      ]
     },
     "execution_count": 5,
     "metadata": {},
     "output_type": "execute_result"
    }
   ],
   "source": [
    "l[2]"
   ]
  },
  {
   "cell_type": "code",
   "execution_count": 8,
   "id": "ebdb9cf4",
   "metadata": {},
   "outputs": [
    {
     "data": {
      "text/plain": [
       "'prabh'"
      ]
     },
     "execution_count": 8,
     "metadata": {},
     "output_type": "execute_result"
    }
   ],
   "source": [
    "l[0]"
   ]
  },
  {
   "cell_type": "code",
   "execution_count": 9,
   "id": "b2ad6f20",
   "metadata": {},
   "outputs": [
    {
     "data": {
      "text/plain": [
       "'r'"
      ]
     },
     "execution_count": 9,
     "metadata": {},
     "output_type": "execute_result"
    }
   ],
   "source": [
    "l[0][1]"
   ]
  },
  {
   "cell_type": "code",
   "execution_count": 10,
   "id": "84246036",
   "metadata": {},
   "outputs": [
    {
     "data": {
      "text/plain": [
       "(2+8j)"
      ]
     },
     "execution_count": 10,
     "metadata": {},
     "output_type": "execute_result"
    }
   ],
   "source": [
    "l[3]"
   ]
  },
  {
   "cell_type": "code",
   "execution_count": 12,
   "id": "70920f8c",
   "metadata": {},
   "outputs": [
    {
     "data": {
      "text/plain": [
       "2.0"
      ]
     },
     "execution_count": 12,
     "metadata": {},
     "output_type": "execute_result"
    }
   ],
   "source": [
    "l[3].real"
   ]
  },
  {
   "cell_type": "code",
   "execution_count": 13,
   "id": "6cee98df",
   "metadata": {},
   "outputs": [
    {
     "data": {
      "text/plain": [
       "8.0"
      ]
     },
     "execution_count": 13,
     "metadata": {},
     "output_type": "execute_result"
    }
   ],
   "source": [
    "l[3].imag"
   ]
  },
  {
   "cell_type": "code",
   "execution_count": 84,
   "id": "791a1ba4",
   "metadata": {},
   "outputs": [],
   "source": [
    "l1 = [\"prabh\", \"talwar\", 410]\n",
    "l2 = [\"abc\", \"xyx\", 323]"
   ]
  },
  {
   "cell_type": "code",
   "execution_count": 56,
   "id": "3ffe013f",
   "metadata": {},
   "outputs": [
    {
     "data": {
      "text/plain": [
       "['prabh', 'talwar', 410, 'abc', 'xyx', 323]"
      ]
     },
     "execution_count": 56,
     "metadata": {},
     "output_type": "execute_result"
    }
   ],
   "source": [
    "l1 + l2"
   ]
  },
  {
   "cell_type": "code",
   "execution_count": 26,
   "id": "494b03c5",
   "metadata": {},
   "outputs": [],
   "source": [
    "l1[0] = \"simran\" # replacing elements"
   ]
  },
  {
   "cell_type": "code",
   "execution_count": 27,
   "id": "3f8d57b9",
   "metadata": {},
   "outputs": [
    {
     "data": {
      "text/plain": [
       "['simran', 'talwar', 410]"
      ]
     },
     "execution_count": 27,
     "metadata": {},
     "output_type": "execute_result"
    }
   ],
   "source": [
    "l1"
   ]
  },
  {
   "cell_type": "code",
   "execution_count": 28,
   "id": "06c8b328",
   "metadata": {},
   "outputs": [
    {
     "data": {
      "text/plain": [
       "'talwar'"
      ]
     },
     "execution_count": 28,
     "metadata": {},
     "output_type": "execute_result"
    }
   ],
   "source": [
    "l1[1]"
   ]
  },
  {
   "cell_type": "code",
   "execution_count": 34,
   "id": "5cc93305",
   "metadata": {
    "scrolled": true
   },
   "outputs": [
    {
     "ename": "TypeError",
     "evalue": "'str' object does not support item assignment",
     "output_type": "error",
     "traceback": [
      "\u001b[1;31m---------------------------------------------------------------------------\u001b[0m",
      "\u001b[1;31mTypeError\u001b[0m                                 Traceback (most recent call last)",
      "\u001b[1;32m~\\AppData\\Local\\Temp\\ipykernel_27040\\1214524863.py\u001b[0m in \u001b[0;36m<module>\u001b[1;34m\u001b[0m\n\u001b[1;32m----> 1\u001b[1;33m \u001b[0ml1\u001b[0m\u001b[1;33m[\u001b[0m\u001b[1;36m1\u001b[0m\u001b[1;33m]\u001b[0m\u001b[1;33m[\u001b[0m\u001b[1;36m0\u001b[0m\u001b[1;33m]\u001b[0m \u001b[1;33m=\u001b[0m \u001b[1;34m\"d\"\u001b[0m\u001b[1;33m\u001b[0m\u001b[1;33m\u001b[0m\u001b[0m\n\u001b[0m",
      "\u001b[1;31mTypeError\u001b[0m: 'str' object does not support item assignment"
     ]
    }
   ],
   "source": [
    "l1[1][0] = \"d\" # (immutable) shows error while changing the particular string itself"
   ]
  },
  {
   "cell_type": "code",
   "execution_count": 39,
   "id": "a84047b4",
   "metadata": {},
   "outputs": [
    {
     "data": {
      "text/plain": [
       "3"
      ]
     },
     "execution_count": 39,
     "metadata": {},
     "output_type": "execute_result"
    }
   ],
   "source": [
    "len(l1) # total number of elements"
   ]
  },
  {
   "cell_type": "code",
   "execution_count": 38,
   "id": "3630f857",
   "metadata": {},
   "outputs": [
    {
     "data": {
      "text/plain": [
       "False"
      ]
     },
     "execution_count": 38,
     "metadata": {},
     "output_type": "execute_result"
    }
   ],
   "source": [
    "\"prabh\" in l1"
   ]
  },
  {
   "cell_type": "code",
   "execution_count": 57,
   "id": "afdd5388",
   "metadata": {},
   "outputs": [],
   "source": [
    "l2.append(\"prabh\") #adding more data in the list"
   ]
  },
  {
   "cell_type": "code",
   "execution_count": 58,
   "id": "db115c67",
   "metadata": {},
   "outputs": [
    {
     "data": {
      "text/plain": [
       "['abc', 'xyx', 323, 'prabh']"
      ]
     },
     "execution_count": 58,
     "metadata": {},
     "output_type": "execute_result"
    }
   ],
   "source": [
    "l2"
   ]
  },
  {
   "cell_type": "code",
   "execution_count": 59,
   "id": "18d9f20b",
   "metadata": {},
   "outputs": [
    {
     "data": {
      "text/plain": [
       "'prabh'"
      ]
     },
     "execution_count": 59,
     "metadata": {},
     "output_type": "execute_result"
    }
   ],
   "source": [
    "l2.pop() # removes & returns the last element from the list"
   ]
  },
  {
   "cell_type": "code",
   "execution_count": 60,
   "id": "fc40bd50",
   "metadata": {},
   "outputs": [
    {
     "data": {
      "text/plain": [
       "['abc', 'xyx', 323]"
      ]
     },
     "execution_count": 60,
     "metadata": {},
     "output_type": "execute_result"
    }
   ],
   "source": [
    "l2"
   ]
  },
  {
   "cell_type": "code",
   "execution_count": 85,
   "id": "1103324f",
   "metadata": {},
   "outputs": [],
   "source": [
    "l2.insert(0, 98987)"
   ]
  },
  {
   "cell_type": "code",
   "execution_count": 86,
   "id": "db1dd41c",
   "metadata": {},
   "outputs": [
    {
     "data": {
      "text/plain": [
       "[98987, 'abc', 'xyx', 323]"
      ]
     },
     "execution_count": 86,
     "metadata": {},
     "output_type": "execute_result"
    }
   ],
   "source": [
    "l2"
   ]
  },
  {
   "cell_type": "code",
   "execution_count": 65,
   "id": "3e52d9a4",
   "metadata": {},
   "outputs": [],
   "source": [
    "l2.reverse() #reverse the whole list"
   ]
  },
  {
   "cell_type": "code",
   "execution_count": 87,
   "id": "ce1cecb0",
   "metadata": {},
   "outputs": [
    {
     "data": {
      "text/plain": [
       "[98987, 'abc', 'xyx', 323]"
      ]
     },
     "execution_count": 87,
     "metadata": {},
     "output_type": "execute_result"
    }
   ],
   "source": [
    "l2"
   ]
  },
  {
   "cell_type": "code",
   "execution_count": 88,
   "id": "2f5594f6",
   "metadata": {},
   "outputs": [],
   "source": [
    "l2.append([1, 2, 3 , 4])"
   ]
  },
  {
   "cell_type": "code",
   "execution_count": 89,
   "id": "6608cba6",
   "metadata": {},
   "outputs": [
    {
     "data": {
      "text/plain": [
       "[98987, 'abc', 'xyx', 323, [1, 2, 3, 4]]"
      ]
     },
     "execution_count": 89,
     "metadata": {},
     "output_type": "execute_result"
    }
   ],
   "source": [
    "l2"
   ]
  },
  {
   "cell_type": "code",
   "execution_count": 90,
   "id": "7ade2049",
   "metadata": {},
   "outputs": [
    {
     "data": {
      "text/plain": [
       "3"
      ]
     },
     "execution_count": 90,
     "metadata": {},
     "output_type": "execute_result"
    }
   ],
   "source": [
    "l2[4][2]"
   ]
  },
  {
   "cell_type": "code",
   "execution_count": 91,
   "id": "366f0932",
   "metadata": {},
   "outputs": [
    {
     "data": {
      "text/plain": [
       "1"
      ]
     },
     "execution_count": 91,
     "metadata": {},
     "output_type": "execute_result"
    }
   ],
   "source": [
    "l2.count(323) #occurance in the list"
   ]
  },
  {
   "cell_type": "code",
   "execution_count": 92,
   "id": "4f10490d",
   "metadata": {},
   "outputs": [],
   "source": [
    "l2.extend([877,9876,867])"
   ]
  },
  {
   "cell_type": "code",
   "execution_count": 78,
   "id": "0a36f81c",
   "metadata": {},
   "outputs": [
    {
     "data": {
      "text/plain": [
       "[98987,\n",
       " 'abc',\n",
       " 'xyx',\n",
       " 323,\n",
       " [1, 2, 3, 4],\n",
       " [1, 2, 3, 4],\n",
       " 877,\n",
       " 9876,\n",
       " 867,\n",
       " 877,\n",
       " 9876,\n",
       " 867]"
      ]
     },
     "execution_count": 78,
     "metadata": {},
     "output_type": "execute_result"
    }
   ],
   "source": [
    "l2"
   ]
  },
  {
   "cell_type": "code",
   "execution_count": null,
   "id": "7cd161a9",
   "metadata": {},
   "outputs": [],
   "source": []
  }
 ],
 "metadata": {
  "kernelspec": {
   "display_name": "Python 3 (ipykernel)",
   "language": "python",
   "name": "python3"
  },
  "language_info": {
   "codemirror_mode": {
    "name": "ipython",
    "version": 3
   },
   "file_extension": ".py",
   "mimetype": "text/x-python",
   "name": "python",
   "nbconvert_exporter": "python",
   "pygments_lexer": "ipython3",
   "version": "3.9.13"
  }
 },
 "nbformat": 4,
 "nbformat_minor": 5
}
